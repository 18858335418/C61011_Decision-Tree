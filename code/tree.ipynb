{
 "cells": [
  {
   "cell_type": "code",
   "execution_count": 5,
   "metadata": {},
   "outputs": [
    {
     "data": {
      "text/plain": [
       "0.9709505944546686"
      ]
     },
     "execution_count": 5,
     "metadata": {},
     "output_type": "execute_result"
    }
   ],
   "source": [
    "import math\n",
    "from collections import Counter\n",
    "from collections import defaultdict\n",
    "\n",
    "def createDataset( ):\n",
    "    \n",
    "    return data,feature\n",
    "\n",
    "# calculate the information gain of the dateset\n",
    "def calc_Etp(data):\n",
    "    #put the data of features in the list\n",
    "    features = Counter()\n",
    "    features.update(data)\n",
    "    data_num = len(data)\n",
    "    \n",
    "    entropy = 0.0\n",
    "    for feature in features.values():\n",
    "        #calc H(x)\n",
    "        p = float(feature)/data_num\n",
    "        entropy -= p*math.log2(p)\n",
    "        \n",
    "    return entropy\n",
    "\n",
    "#calculate H(Y/X)\n",
    "def calc_condition_etp(feature_list,label_list):\n",
    "    entropy_dict = defaultdict(list)\n",
    "    for i,value in zip(feature_list,label_list):\n",
    "        entropy_dict[i].append(value)\n",
    "        \n",
    "    entropy = 0.0\n",
    "    feature_num = len(feature_list)\n",
    "    \n",
    "    for value in entropy_dict.values():\n",
    "        p = len(value) / feature_num * calc_Etp(value)\n",
    "        entropy += p\n",
    "    \n",
    "    return entropy\n",
    "\n",
    "#calculate information gain\n",
    "def calc_infogain(feature_list,label_list):\n",
    "    return calc_Etp(label_list)-calc_condition_etp(feature_list,label_list)\n",
    "\n",
    "dummy_x = [\n",
    "        [0, 0, 1, 0, 1, 1, 0, 0, 1, 0, ],\n",
    "        [0, 0, 1, 1, 0, 1, 0, 0, 1, 0, ],\n",
    "        [1, 0, 0, 0, 1, 1, 0, 0, 1, 0, ],\n",
    "        [0, 1, 0, 0, 1, 0, 0, 1, 1, 0, ],\n",
    "        [0, 1, 0, 0, 1, 0, 1, 0, 0, 1, ],\n",
    "        [0, 1, 0, 1, 0, 0, 1, 0, 0, 1, ],\n",
    "        [1, 0, 0, 1, 0, 0, 1, 0, 0, 1, ],\n",
    "        [0, 0, 1, 0, 1, 0, 0, 1, 1, 0, ],\n",
    "        [0, 0, 1, 0, 1, 0, 1, 0, 0, 1, ],\n",
    "        [0, 1, 0, 0, 1, 0, 0, 1, 0, 1, ],\n",
    "        [0, 0, 1, 1, 0, 0, 0, 1, 0, 1, ],\n",
    "        [1, 0, 0, 1, 0, 0, 0, 1, 1, 0, ],\n",
    "        [1, 0, 0, 0, 1, 1, 0, 0, 0, 1, ],\n",
    "        [0, 1, 0, 1, 0, 0, 0, 1, 1, 0, ],\n",
    "    ]\n",
    "\n",
    "#数据需横向、纵向分类，横向为dataset，纵向为features\n",
    "def createDataSet():\n",
    "    dataSet = [[1, 1, 'yes'], [1, 1, 'yes'], [1, 0, 'no'], [0, 1, 'no'], [0, 1, 'no']]\n",
    "    labels = ['no sufacing', 'flippers']\n",
    "    return dataSet, labels\n",
    "\n",
    "\n",
    "calc_Etp(dummy_x[0])\n",
    "    \n",
    "\n",
    "\n"
   ]
  },
  {
   "cell_type": "code",
   "execution_count": null,
   "metadata": {},
   "outputs": [],
   "source": []
  }
 ],
 "metadata": {
  "kernelspec": {
   "display_name": "Python 3",
   "language": "python",
   "name": "python3"
  },
  "language_info": {
   "codemirror_mode": {
    "name": "ipython",
    "version": 3
   },
   "file_extension": ".py",
   "mimetype": "text/x-python",
   "name": "python",
   "nbconvert_exporter": "python",
   "pygments_lexer": "ipython3",
   "version": "3.6.2"
  }
 },
 "nbformat": 4,
 "nbformat_minor": 2
}
